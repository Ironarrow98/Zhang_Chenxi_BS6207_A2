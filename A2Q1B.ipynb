{
  "nbformat": 4,
  "nbformat_minor": 0,
  "metadata": {
    "colab": {
      "name": "A2Q1B.ipynb",
      "provenance": []
    },
    "kernelspec": {
      "name": "python3",
      "display_name": "Python 3"
    },
    "language_info": {
      "name": "python"
    }
  },
  "cells": [
    {
      "cell_type": "code",
      "execution_count": 8,
      "metadata": {
        "colab": {
          "base_uri": "https://localhost:8080/"
        },
        "id": "Gbfu0MOhdAZN",
        "outputId": "e19190bd-3399-477f-a055-e907b7f8ad6d"
      },
      "outputs": [
        {
          "output_type": "stream",
          "name": "stdout",
          "text": [
            "1.4101842951299737\n"
          ]
        }
      ],
      "source": [
        "import math\n",
        "\n",
        "m = [0]\n",
        "v = [0]\n",
        "nm = [0]\n",
        "nv = [0]\n",
        "theta = [0]\n",
        "\n",
        "b1 = 0.9\n",
        "b2 = 0.999\n",
        "a = 0.3\n",
        "t = 0\n",
        "\n",
        "for i in range(20):\n",
        "  t += 1\n",
        "  if theta[-1] < 1:\n",
        "    g = -1\n",
        "  else:\n",
        "    g = 1\n",
        "  m.append(b1 * m[-1] + (1 - b1) * g)\n",
        "  v.append(b2 * v[-1] + (1 - b2) * (g ** 2))\n",
        "  nm.append(m[-1] / (1 - (b1 ** t)))\n",
        "  nv.append(v[-1] / (1 - (b2 ** t)))\n",
        "  theta.append(theta[-1] - (a * nm[-1] * (math.sqrt(nv[-1]))))\n",
        "\n",
        "print(max(theta))"
      ]
    }
  ]
}